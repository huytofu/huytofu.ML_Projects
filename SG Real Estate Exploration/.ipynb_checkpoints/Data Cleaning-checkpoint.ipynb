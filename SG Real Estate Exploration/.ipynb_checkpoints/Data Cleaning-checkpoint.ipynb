{
 "cells": [
  {
   "cell_type": "code",
   "execution_count": 1,
   "metadata": {},
   "outputs": [],
   "source": [
    "import pandas as pd\n",
    "import matplotlib.pyplot as plt\n",
    "import seaborn as sns\n",
    "import re\n",
    "import numpy as np\n",
    "from numpy import sqrt"
   ]
  },
  {
   "cell_type": "code",
   "execution_count": 2,
   "metadata": {},
   "outputs": [],
   "source": [
    "df1 = pd.read_csv('Listings.csv')\n",
    "df2 = pd.read_csv('Listings2.csv')\n",
    "df3 = pd.read_csv('Listings3.csv')\n",
    "df4 = pd.read_csv('Listings4.csv')\n",
    "full_df = pd.concat([df1,df2,df3,df4], ignore_index=True)\n",
    "#full_df.head()"
   ]
  },
  {
   "cell_type": "markdown",
   "metadata": {},
   "source": [
    "# <font color=blue size=6> 1. DATA CLEANING & PREPROCESSING"
   ]
  },
  {
   "cell_type": "markdown",
   "metadata": {},
   "source": [
    "## Checking for Nan or empty entries"
   ]
  },
  {
   "cell_type": "code",
   "execution_count": 3,
   "metadata": {},
   "outputs": [],
   "source": [
    "#plt.figure(figsize=[15,10])\n",
    "#sns.heatmap(full_df.isna())"
   ]
  },
  {
   "cell_type": "code",
   "execution_count": 4,
   "metadata": {},
   "outputs": [],
   "source": [
    "#full_df[full_df.Price_psf.isna()].head()"
   ]
  },
  {
   "cell_type": "code",
   "execution_count": 5,
   "metadata": {},
   "outputs": [
    {
     "name": "stderr",
     "output_type": "stream",
     "text": [
      "C:\\Users\\admin\\Anaconda3\\lib\\site-packages\\ipykernel_launcher.py:4: SettingWithCopyWarning: \n",
      "A value is trying to be set on a copy of a slice from a DataFrame.\n",
      "Try using .loc[row_indexer,col_indexer] = value instead\n",
      "\n",
      "See the caveats in the documentation: http://pandas.pydata.org/pandas-docs/stable/indexing.html#indexing-view-versus-copy\n",
      "  after removing the cwd from sys.path.\n",
      "C:\\Users\\admin\\Anaconda3\\lib\\site-packages\\ipykernel_launcher.py:5: SettingWithCopyWarning: \n",
      "A value is trying to be set on a copy of a slice from a DataFrame.\n",
      "Try using .loc[row_indexer,col_indexer] = value instead\n",
      "\n",
      "See the caveats in the documentation: http://pandas.pydata.org/pandas-docs/stable/indexing.html#indexing-view-versus-copy\n",
      "  \"\"\"\n",
      "C:\\Users\\admin\\Anaconda3\\lib\\site-packages\\ipykernel_launcher.py:6: SettingWithCopyWarning: \n",
      "A value is trying to be set on a copy of a slice from a DataFrame.\n",
      "Try using .loc[row_indexer,col_indexer] = value instead\n",
      "\n",
      "See the caveats in the documentation: http://pandas.pydata.org/pandas-docs/stable/indexing.html#indexing-view-versus-copy\n",
      "  \n"
     ]
    }
   ],
   "source": [
    "correct_df = full_df[full_df.Area_Sqft.str.contains('sqft')]\n",
    "wrong_df = full_df[full_df.Area_Sqft.str.contains('psf')]\n",
    "#------------------------------\n",
    "wrong_df['Price_psf'] = wrong_df['Area_Sqft']\n",
    "wrong_df['Area_Sqft'] = wrong_df['NumBaths']\n",
    "wrong_df['NumBaths'] = np.NAN\n",
    "#-------------------------------\n",
    "full_df = pd.concat([wrong_df, correct_df], ignore_index=True)\n",
    "#full_df.head()"
   ]
  },
  {
   "cell_type": "markdown",
   "metadata": {},
   "source": [
    "## Let's proceed to transform the numerical columns from string forms into numeric form"
   ]
  },
  {
   "cell_type": "code",
   "execution_count": 6,
   "metadata": {},
   "outputs": [],
   "source": [
    "def strip_num(text):\n",
    "    number_lst = re.findall('\\\\b\\\\d*[.,]*\\\\d+\\\\b', text)\n",
    "    assert len(number_lst) == 1\n",
    "    number = float(number_lst[0].replace(',',''))\n",
    "    return number"
   ]
  },
  {
   "cell_type": "code",
   "execution_count": 7,
   "metadata": {},
   "outputs": [],
   "source": [
    "# Checking for weird numbers (those that have more than one ',' or '.' in itself)\n",
    "for field in ['Area_Sqft','Price_psf','RentalRate']:\n",
    "    for i in range(len(full_df)):\n",
    "        try:\n",
    "            haha=strip_num(full_df[field][i])\n",
    "        except:\n",
    "            #print('Silly Entry!!!!!!!!! Index = ' , i)\n",
    "            pass\n",
    "#full_df.iloc[4379]"
   ]
  },
  {
   "cell_type": "markdown",
   "metadata": {},
   "source": [
    "### This lousy entry has\n",
    "1. Exaggerated area. Perhaps the agent quote the area of the entire compound\n",
    "2. Price_psf equals 0. This is not possible\n",
    "3. Very abnormally cheap price/month for a condo unit\n",
    "\n",
    "### such an entry should not be trusted. I will drop it"
   ]
  },
  {
   "cell_type": "code",
   "execution_count": 8,
   "metadata": {},
   "outputs": [],
   "source": [
    "full_df.drop(index=4379, inplace=True)\n",
    "#-------------------------------\n",
    "full_df.Area_Sqft = full_df.Area_Sqft.apply(strip_num)\n",
    "full_df.Price_psf = full_df.Price_psf.apply(strip_num)\n",
    "full_df.RentalRate = full_df.RentalRate.apply(strip_num)"
   ]
  },
  {
   "cell_type": "markdown",
   "metadata": {},
   "source": [
    "## Checking for duplicated entries\n",
    "* We recognize these duplicates by referring to their Urls"
   ]
  },
  {
   "cell_type": "code",
   "execution_count": 9,
   "metadata": {},
   "outputs": [],
   "source": [
    "dups=full_df[full_df.duplicated(subset='Url', keep=False)].sort_values(by='Url')\n",
    "#print('There are {} duplicated entries'.format(len(dups)))\n",
    "#dups.head(6)"
   ]
  },
  {
   "cell_type": "code",
   "execution_count": 10,
   "metadata": {},
   "outputs": [],
   "source": [
    "full_df.drop_duplicates(subset='Url', inplace=True)"
   ]
  },
  {
   "cell_type": "markdown",
   "metadata": {},
   "source": [
    "## Let's recheck the Nan or empty values"
   ]
  },
  {
   "cell_type": "code",
   "execution_count": 11,
   "metadata": {},
   "outputs": [],
   "source": [
    "#plt.figure(figsize=[15,10])\n",
    "#sns.heatmap(full_df.isna())"
   ]
  },
  {
   "cell_type": "markdown",
   "metadata": {},
   "source": [
    "## Now the numeric columns are fully filled. Let's move on or take a look at other columns, especially those with empty entries"
   ]
  },
  {
   "cell_type": "code",
   "execution_count": 12,
   "metadata": {},
   "outputs": [],
   "source": [
    "#print(list(full_df.District.unique()),'\\n')\n",
    "#print(list(full_df.Ethnic.unique()),'\\n')\n",
    "#print(list(full_df.Facing.unique()),'\\n')\n",
    "#print(list(full_df.Floor.unique()),'\\n')\n",
    "#print(list(full_df.Furnishing.unique()),'\\n')\n",
    "#print(list(full_df.Keys_On_Hand.unique()),'\\n')\n",
    "#print(list(full_df.Lease.unique()),'\\n')\n",
    "#print(list(full_df.NumBaths.unique()),'\\n')\n",
    "#print(list(full_df.NumBeds.unique()),'\\n')\n",
    "#print(list(full_df.Pets.unique()),'\\n')"
   ]
  },
  {
   "cell_type": "markdown",
   "metadata": {},
   "source": [
    "## <font color=blue> We encounter the following interesting things</font>\n",
    "<font size=3>\n",
    "1. The columns' nan entries can first be replaced with **\"No Mention\"**\n",
    "2. There are a few of weird entries in which the rental place has **'None Beds'**???\n",
    "3. Studio should be **grouped with** '1 bed'?\n",
    "4. What is up with the places that has no mentioning of **NumBaths**. Can we find a way to fill in the info?\n",
    "5. **Furnishing & District** looks like columns where we can try to fill in the empty entries. Other columns have way to many to handle\n",
    "4. The 'Floor' column definitely requires **more cleaning & standardizing** in case we **need to use** it later"
   ]
  },
  {
   "cell_type": "markdown",
   "metadata": {},
   "source": [
    "## Let's perform action number one first"
   ]
  },
  {
   "cell_type": "code",
   "execution_count": 13,
   "metadata": {},
   "outputs": [],
   "source": [
    "full_df.fillna(value='No Mention', inplace=True)"
   ]
  },
  {
   "cell_type": "markdown",
   "metadata": {},
   "source": [
    "## Let's perform further cleaning for the NumBeds feature"
   ]
  },
  {
   "cell_type": "code",
   "execution_count": 14,
   "metadata": {},
   "outputs": [
    {
     "data": {
      "text/plain": [
       "2549     True\n",
       "2572    False\n",
       "4483     True\n",
       "4494     True\n",
       "4508     True\n",
       "4731     True\n",
       "4740     True\n",
       "4741     True\n",
       "4769     True\n",
       "4850     True\n",
       "Name: Description, dtype: bool"
      ]
     },
     "execution_count": 14,
     "metadata": {},
     "output_type": "execute_result"
    }
   ],
   "source": [
    "none_beds=full_df[full_df.NumBeds == 'None Beds']\n",
    "none_beds.Description.apply(lambda x: 'studio' in x.lower())"
   ]
  },
  {
   "cell_type": "code",
   "execution_count": 15,
   "metadata": {},
   "outputs": [],
   "source": [
    "#none_beds.Description[2572][:20]"
   ]
  },
  {
   "cell_type": "code",
   "execution_count": 16,
   "metadata": {},
   "outputs": [
    {
     "name": "stderr",
     "output_type": "stream",
     "text": [
      "C:\\Users\\admin\\Anaconda3\\lib\\site-packages\\ipykernel_launcher.py:2: SettingWithCopyWarning: \n",
      "A value is trying to be set on a copy of a slice from a DataFrame\n",
      "\n",
      "See the caveats in the documentation: http://pandas.pydata.org/pandas-docs/stable/indexing.html#indexing-view-versus-copy\n",
      "  \n"
     ]
    }
   ],
   "source": [
    "full_df.NumBeds.replace(to_replace='None Beds', value='1 Bed', inplace=True)\n",
    "full_df.NumBeds[2572] = '3 Beds'\n",
    "full_df.NumBeds.replace(to_replace='Studio', value='1 Bed', inplace=True)\n",
    "full_df.NumBeds = full_df.NumBeds.apply(lambda x: int(re.findall('\\d+',x)[0]))"
   ]
  },
  {
   "cell_type": "markdown",
   "metadata": {},
   "source": [
    "## Let's look at entries where NumBaths is not mentioned"
   ]
  },
  {
   "cell_type": "code",
   "execution_count": 17,
   "metadata": {},
   "outputs": [],
   "source": [
    "def find_bathroom_info(text):\n",
    "    ans=re.findall('\\\\d+ bath[a-z]*', text.lower())\n",
    "    fin_ans = '0'\n",
    "    if len(ans)!=0:\n",
    "        if ans[0][0]=='1':\n",
    "            fin_ans = ans[0].title()\n",
    "        else:\n",
    "            fin_ans = (ans[0]+'s').title()\n",
    "    return fin_ans"
   ]
  },
  {
   "cell_type": "code",
   "execution_count": 18,
   "metadata": {},
   "outputs": [],
   "source": [
    "full_df.NumBaths = list(map(lambda x,y: find_bathroom_info(y) if x=='No Mention' else x, full_df.NumBaths, full_df.Description))\n",
    "full_df.NumBaths = full_df.NumBaths.apply(lambda x: int(re.findall('\\d+', x)[0]))"
   ]
  },
  {
   "cell_type": "code",
   "execution_count": 19,
   "metadata": {},
   "outputs": [],
   "source": [
    "#plt.figure(figsize=[15,10])\n",
    "#sns.heatmap(full_df.applymap(lambda x: x==0))"
   ]
  },
  {
   "cell_type": "code",
   "execution_count": 20,
   "metadata": {},
   "outputs": [],
   "source": [
    "grouped_numbed=full_df[full_df.NumBaths!=0][['NumBeds','NumBaths']].groupby(by='NumBeds').mean()\n",
    "dict1 = {grouped_numbed.index[i]:int(round(grouped_numbed.NumBaths.iloc[i])) for i in range(len(grouped_numbed))}"
   ]
  },
  {
   "cell_type": "code",
   "execution_count": 21,
   "metadata": {},
   "outputs": [],
   "source": [
    "full_df.NumBaths = list(map(lambda x,y: dict1[y] if x==0 else x, full_df.NumBaths, full_df.NumBeds))\n",
    "#full_df.NumBaths.unique()"
   ]
  },
  {
   "cell_type": "markdown",
   "metadata": {},
   "source": [
    "## Let's look at entries where Furnishing is not mentioned"
   ]
  },
  {
   "cell_type": "code",
   "execution_count": 22,
   "metadata": {},
   "outputs": [],
   "source": [
    "def find_furnishing_info(text):\n",
    "    ans=re.findall('[?:A-Za-z]+[?: .]*furnish[a-z]*', text.lower())\n",
    "    fin_ans = 'No Mention'\n",
    "    if len(ans)!=0:\n",
    "        fin_ans = ans[0].title()\n",
    "    return fin_ans\n",
    "\n",
    "#ser2 = full_df[full_df.Furnishing=='No Mention'].Description.apply(find_furnishing_info)\n",
    "#ser2.where(ser2.apply(len)>=1).dropna().unique()"
   ]
  },
  {
   "cell_type": "code",
   "execution_count": 23,
   "metadata": {},
   "outputs": [],
   "source": [
    "#ser2.where((ser2==\"With Furnished\") | (ser2==\"And Furnished\") |\n",
    "#           (ser2==\"Be Furnished\") | (ser2==\"Between Furnished\")).dropna()"
   ]
  },
  {
   "cell_type": "code",
   "execution_count": 24,
   "metadata": {},
   "outputs": [],
   "source": [
    "#check=full_df.Description[[837,1026,3497,4024]]\n",
    "#for i in range(4):\n",
    "#    print(check.iloc[i])\n",
    "#    print('########################################')"
   ]
  },
  {
   "cell_type": "code",
   "execution_count": 25,
   "metadata": {},
   "outputs": [],
   "source": [
    "full_df.Furnishing = list(map(lambda x,y: find_furnishing_info(y) if x=='No Mention' else x, \n",
    "                              full_df.Furnishing, full_df.Description))\n",
    "full_df.Furnishing.replace('Partial Furnished', 'Partially Furnished', inplace=True)\n",
    "full_df.Furnishing.replace('Partial Furnish', 'Partially Furnished', inplace=True)\n",
    "full_df.Furnishing.replace('Parital Furnish', 'Partially Furnished', inplace=True)\n",
    "full_df.Furnishing.replace('Bare Furnish', 'Partially Furnished', inplace=True)\n",
    "full_df.Furnishing.replace('Full Furnished', 'Fully Furnished', inplace=True)\n",
    "full_df.Furnishing.replace('Nicely Furnished', 'Fully Furnished', inplace=True)\n",
    "full_df.Furnishing.replace('Luxuriously Furnished', 'Fully Furnished', inplace=True)\n",
    "full_df.Furnishing.replace('Tastefully Furnished', 'Fully Furnished', inplace=True)\n",
    "full_df.Furnishing.replace('Stylishly Furnished', 'Fully Furnished', inplace=True)\n",
    "full_df.Furnishing.replace('Newly Furnish', 'Fully Furnished', inplace=True)\n",
    "full_df.Furnishing.replace('And Furnished', 'Fully Furnished', inplace=True)\n",
    "full_df.Furnishing.replace('Full Furnish', 'Fully Furnished', inplace=True)\n",
    "full_df.Furnishing.replace('Fully Furnish', 'Fully Furnished', inplace=True)\n",
    "full_df.Furnishing.replace('Full Furnishing', 'Fully Furnished', inplace=True)\n",
    "full_df.Furnishing.replace('Luxurious Furnishing', 'Fully Furnished', inplace=True)\n",
    "full_df.Furnishing.replace('Be Furnished', 'Flexible', inplace=True)\n",
    "full_df.Furnishing.replace('Between Furnished', 'Flexible', inplace=True)\n",
    "full_df.Furnishing.replace('With Furnished', 'Flexible', inplace=True)\n",
    "full_df.Furnishing.replace('Flexible Furnishing', 'Flexible', inplace=True)\n",
    "full_df.Furnishing.replace('Easy Furnishing', 'Flexible', inplace=True)\n",
    "full_df.Furnishing.replace('Unfurnish', 'Unfurnished', inplace=True)"
   ]
  },
  {
   "cell_type": "markdown",
   "metadata": {},
   "source": [
    "## Let's look at entries where District is not mentioned"
   ]
  },
  {
   "cell_type": "code",
   "execution_count": 26,
   "metadata": {},
   "outputs": [],
   "source": [
    "def find_district_info(text):\n",
    "    ans=re.findall('district(?: )*\\d+', text.lower())\n",
    "    fin_ans = 'No mention'\n",
    "    if len(ans)!=0:\n",
    "        fin_ans = ans[0].title().replace('District ','')\n",
    "        fin_ans = 'D'+(2-len(fin_ans))*'0'+fin_ans\n",
    "    return fin_ans"
   ]
  },
  {
   "cell_type": "code",
   "execution_count": 27,
   "metadata": {},
   "outputs": [],
   "source": [
    "full_df.District = list(map(lambda x,y: find_district_info(y) if x=='No Mention' else x, full_df.District, full_df.Description))"
   ]
  },
  {
   "cell_type": "code",
   "execution_count": 28,
   "metadata": {},
   "outputs": [],
   "source": [
    "#plt.figure(figsize=[15,10])\n",
    "#sns.heatmap(full_df.applymap(lambda x: \"No Mention\" in str(x)))"
   ]
  },
  {
   "cell_type": "markdown",
   "metadata": {},
   "source": [
    "## Let's look at entries where Amenities are not mentioned"
   ]
  },
  {
   "cell_type": "code",
   "execution_count": 29,
   "metadata": {},
   "outputs": [],
   "source": [
    "amenities = []\n",
    "for i in range(len(full_df)):\n",
    "    amenities += full_df.Amenities.iloc[i].split(',')\n",
    "amenities_list=list(set(amenities))\n",
    "amenities_list.sort()\n",
    "#print(amenities_list)"
   ]
  },
  {
   "cell_type": "code",
   "execution_count": 30,
   "metadata": {},
   "outputs": [],
   "source": [
    "def find_amenities_info(text):\n",
    "    ans=re.findall('[a-zA-z, :]*(?:amenities|facilities)[a-zA-z, :]*', text.lower())\n",
    "    fin_ans = ''\n",
    "    if len(ans)!=0:\n",
    "        fin_ans = ans[0].title()\n",
    "    return fin_ans\n",
    "\n",
    "#ser4 = full_df[full_df.Amenities == 'No Mention'].Description.apply(find_amenities_info)\n",
    "#ser4.where(ser4.apply(len)>=1).dropna()"
   ]
  },
  {
   "cell_type": "code",
   "execution_count": 31,
   "metadata": {},
   "outputs": [],
   "source": [
    "#print(full_df.Description[4639])\n",
    "#print('###############################')\n",
    "#print(full_df.Description[2418])"
   ]
  },
  {
   "cell_type": "markdown",
   "metadata": {},
   "source": [
    "### Only data extracted from description at index 340,341,4639,2418 are valid for updating of the Amenities col"
   ]
  },
  {
   "cell_type": "code",
   "execution_count": 32,
   "metadata": {},
   "outputs": [
    {
     "name": "stderr",
     "output_type": "stream",
     "text": [
      "C:\\Users\\admin\\Anaconda3\\lib\\site-packages\\ipykernel_launcher.py:5: SettingWithCopyWarning: \n",
      "A value is trying to be set on a copy of a slice from a DataFrame\n",
      "\n",
      "See the caveats in the documentation: http://pandas.pydata.org/pandas-docs/stable/indexing.html#indexing-view-versus-copy\n",
      "  \"\"\"\n",
      "C:\\Users\\admin\\Anaconda3\\lib\\site-packages\\ipykernel_launcher.py:6: SettingWithCopyWarning: \n",
      "A value is trying to be set on a copy of a slice from a DataFrame\n",
      "\n",
      "See the caveats in the documentation: http://pandas.pydata.org/pandas-docs/stable/indexing.html#indexing-view-versus-copy\n",
      "  \n",
      "C:\\Users\\admin\\Anaconda3\\lib\\site-packages\\ipykernel_launcher.py:7: SettingWithCopyWarning: \n",
      "A value is trying to be set on a copy of a slice from a DataFrame\n",
      "\n",
      "See the caveats in the documentation: http://pandas.pydata.org/pandas-docs/stable/indexing.html#indexing-view-versus-copy\n",
      "  import sys\n"
     ]
    }
   ],
   "source": [
    "full_df.Amenities[340:342] = (full_df.Description[340:342].apply(find_amenities_info)\n",
    "                                     .apply(lambda x: x.replace('Amenities Include ',''))\n",
    "                                     .apply(lambda x: x.replace(' And',','))\n",
    "                                     .apply(lambda x: x.replace(' Bbq Pit','BBQ'))\n",
    "                                     .apply(lambda x: x.replace(', ',',')))\n",
    "full_df.Amenities[4639] = 'Aircon,Swimming Pool,Playground,Gymnasium,Function Room,BBQ,Steam Room,High Ceiling,Maid Room,Garden,Outdoor Dining'\n",
    "full_df.Amenities[2418] = 'Aircon' "
   ]
  },
  {
   "cell_type": "code",
   "execution_count": 33,
   "metadata": {},
   "outputs": [],
   "source": [
    "#full_df.Amenities[[340,341,4639,2418]]"
   ]
  },
  {
   "cell_type": "code",
   "execution_count": 34,
   "metadata": {},
   "outputs": [],
   "source": [
    "with_amenities = full_df[full_df.Amenities != 'No Mention']\n",
    "without_amenities = full_df[full_df.Amenities == 'No Mention']"
   ]
  },
  {
   "cell_type": "code",
   "execution_count": 35,
   "metadata": {},
   "outputs": [],
   "source": [
    "def find_amenities_info_2(amenities_list,text):\n",
    "    regex='|'.join(amenities_list)\n",
    "    ans=re.findall(regex, text.title())\n",
    "    fin_ans = ''\n",
    "    if len(ans)!=0:\n",
    "        fin_ans = ans[0].title()\n",
    "    return fin_ans"
   ]
  },
  {
   "cell_type": "code",
   "execution_count": 36,
   "metadata": {},
   "outputs": [
    {
     "name": "stderr",
     "output_type": "stream",
     "text": [
      "C:\\Users\\admin\\Anaconda3\\lib\\site-packages\\pandas\\core\\generic.py:4401: SettingWithCopyWarning: \n",
      "A value is trying to be set on a copy of a slice from a DataFrame.\n",
      "Try using .loc[row_indexer,col_indexer] = value instead\n",
      "\n",
      "See the caveats in the documentation: http://pandas.pydata.org/pandas-docs/stable/indexing.html#indexing-view-versus-copy\n",
      "  self[name] = value\n"
     ]
    }
   ],
   "source": [
    "without_amenities.Amenities=without_amenities.Description.apply(lambda x: find_amenities_info_2(amenities_list, x))\n",
    "full_df = pd.concat([with_amenities, without_amenities], sort=True)"
   ]
  },
  {
   "cell_type": "code",
   "execution_count": 37,
   "metadata": {},
   "outputs": [],
   "source": [
    "## Finally let's drop some highly sparse columns"
   ]
  },
  {
   "cell_type": "code",
   "execution_count": 38,
   "metadata": {},
   "outputs": [],
   "source": [
    "full_df.drop(labels=['Ethnic','Facing','Floor','Keys_On_Hand','Pets'], axis=1, inplace=True)"
   ]
  },
  {
   "cell_type": "markdown",
   "metadata": {},
   "source": [
    "## Final Dataframe after filling in some missing values"
   ]
  },
  {
   "cell_type": "code",
   "execution_count": 39,
   "metadata": {},
   "outputs": [],
   "source": [
    "#plt.figure(figsize=[15,10])\n",
    "#sns.heatmap(full_df.applymap(lambda x: \"No Mention\" in str(x)))"
   ]
  },
  {
   "cell_type": "markdown",
   "metadata": {},
   "source": [
    "## Extracting info about the property type"
   ]
  },
  {
   "cell_type": "code",
   "execution_count": 40,
   "metadata": {},
   "outputs": [],
   "source": [
    "full_df['PropertyType'] = list(map(lambda x: re.findall('hdb|landed|condo', x)[0], full_df.Url))\n",
    "#full_df['PropertyType'].unique()"
   ]
  },
  {
   "cell_type": "code",
   "execution_count": 41,
   "metadata": {},
   "outputs": [],
   "source": [
    "full_df.to_csv('Cleaned_combined_Listings.csv')"
   ]
  }
 ],
 "metadata": {
  "kernelspec": {
   "display_name": "Python 3",
   "language": "python",
   "name": "python3"
  },
  "language_info": {
   "codemirror_mode": {
    "name": "ipython",
    "version": 3
   },
   "file_extension": ".py",
   "mimetype": "text/x-python",
   "name": "python",
   "nbconvert_exporter": "python",
   "pygments_lexer": "ipython3",
   "version": "3.6.5"
  }
 },
 "nbformat": 4,
 "nbformat_minor": 2
}
